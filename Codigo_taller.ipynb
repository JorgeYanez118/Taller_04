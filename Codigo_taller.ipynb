{
 "cells": [
  {
   "cell_type": "code",
   "execution_count": 8,
   "metadata": {
    "executionInfo": {
     "elapsed": 158,
     "status": "ok",
     "timestamp": 1734184896543,
     "user": {
      "displayName": "Jorge Yánez S",
      "userId": "15189617621045422714"
     },
     "user_tz": 300
    },
    "id": "X6x9PCkhYD0_"
   },
   "outputs": [],
   "source": [
    "p1 = (5.4, 3.2)\n",
    "p2_i = (9.5, 0.7)\n",
    "p3 = (12.3, -3.6)"
   ]
  },
  {
   "cell_type": "code",
   "execution_count": 9,
   "metadata": {
    "colab": {
     "base_uri": "https://localhost:8080/",
     "height": 628,
     "referenced_widgets": [
      "2d9d965613574ebea7e88a595c270340",
      "aa2d0b5575ce4dc88e8aba365f7eab0b",
      "c838221f85124f60885197cbbe19859b",
      "4c12e8c143b54712afc38a515e341d0e",
      "8f7c120d14404f38b4aaa67da9fa7e18",
      "1933e0f249f144fa8002bbb37118d4b9",
      "003d8c2cc5ad470d9f252aa8dc826866",
      "43b9ccd78f9a4ed9bf0fcdaeacf60e06",
      "2d1dfe05e15147b9924d7a634eae6840",
      "01073eec7a0a430eaad14c2f85273bad"
     ]
    },
    "executionInfo": {
     "elapsed": 357,
     "status": "ok",
     "timestamp": 1734184897972,
     "user": {
      "displayName": "Jorge Yánez S",
      "userId": "15189617621045422714"
     },
     "user_tz": 300
    },
    "id": "rWuvYTC7YF9A",
    "outputId": "d1746960-de07-4956-bdf6-208ab5d9a5d6"
   },
   "outputs": [
    {
     "data": {
      "application/vnd.jupyter.widget-view+json": {
       "model_id": "2d9d965613574ebea7e88a595c270340",
       "version_major": 2,
       "version_minor": 0
      },
      "text/plain": [
       "interactive(children=(FloatSlider(value=8.9, description='p2_x', max=12.3, min=5.5), FloatSlider(value=0.0, de…"
      ]
     },
     "metadata": {},
     "output_type": "display_data"
    }
   ],
   "source": [
    "from ipywidgets import interact\n",
    "import matplotlib.pyplot as plt\n",
    "import numpy as np\n",
    "\n",
    "def update_plot(p2_x, p2_y):\n",
    "    x_coords = [p1[0], p2_x, p3[0]]\n",
    "    y_coords = [p1[1], p2_y, p3[1]]\n",
    "\n",
    "    plt.figure(figsize=(10, 6))\n",
    "    plt.scatter(x_coords, y_coords, color=\"red\")\n",
    "\n",
    "    #calcular m y b\n",
    "    m, b = np.polyfit(x_coords, y_coords, 1)\n",
    "\n",
    "    x_line = [min(x_coords), max(x_coords)]\n",
    "    y_line = [m * x + b for x in x_line]\n",
    "    plt.plot(x_line, y_line, color=\"blue\")\n",
    "\n",
    "    plt.xlabel(\"X\")\n",
    "    plt.ylabel(\"Y\")\n",
    "    plt.title(\"Points and Line Plot\")\n",
    "    plt.show()\n",
    "\n",
    "\n",
    "_ = interact(update_plot, p2_x=(5.5, 12.3, 0.1), p2_y=(-10.0, 10.0, 0.1))"
   ]
  }
 ],
 "metadata": {
  "colab": {
   "authorship_tag": "ABX9TyOu0uY2+tIs7TAi3ZICz/Dk",
   "provenance": [
    {
     "file_id": "1R6i7hFVmuQS-W9MOYG7RnTjjlQYV6F7q",
     "timestamp": 1734184596822
    }
   ]
  },
  "kernelspec": {
   "display_name": "Python 3",
   "name": "python3"
  },
  "language_info": {
   "name": "python"
  },
  "widgets": {
   "application/vnd.jupyter.widget-state+json": {
    "003d8c2cc5ad470d9f252aa8dc826866": {
     "model_module": "@jupyter-widgets/controls",
     "model_module_version": "1.5.0",
     "model_name": "SliderStyleModel",
     "state": {
      "_model_module": "@jupyter-widgets/controls",
      "_model_module_version": "1.5.0",
      "_model_name": "SliderStyleModel",
      "_view_count": null,
      "_view_module": "@jupyter-widgets/base",
      "_view_module_version": "1.2.0",
      "_view_name": "StyleView",
      "description_width": "",
      "handle_color": null
     }
    },
    "01073eec7a0a430eaad14c2f85273bad": {
     "model_module": "@jupyter-widgets/base",
     "model_module_version": "1.2.0",
     "model_name": "LayoutModel",
     "state": {
      "_model_module": "@jupyter-widgets/base",
      "_model_module_version": "1.2.0",
      "_model_name": "LayoutModel",
      "_view_count": null,
      "_view_module": "@jupyter-widgets/base",
      "_view_module_version": "1.2.0",
      "_view_name": "LayoutView",
      "align_content": null,
      "align_items": null,
      "align_self": null,
      "border": null,
      "bottom": null,
      "display": null,
      "flex": null,
      "flex_flow": null,
      "grid_area": null,
      "grid_auto_columns": null,
      "grid_auto_flow": null,
      "grid_auto_rows": null,
      "grid_column": null,
      "grid_gap": null,
      "grid_row": null,
      "grid_template_areas": null,
      "grid_template_columns": null,
      "grid_template_rows": null,
      "height": null,
      "justify_content": null,
      "justify_items": null,
      "left": null,
      "margin": null,
      "max_height": null,
      "max_width": null,
      "min_height": null,
      "min_width": null,
      "object_fit": null,
      "object_position": null,
      "order": null,
      "overflow": null,
      "overflow_x": null,
      "overflow_y": null,
      "padding": null,
      "right": null,
      "top": null,
      "visibility": null,
      "width": null
     }
    },
    "1933e0f249f144fa8002bbb37118d4b9": {
     "model_module": "@jupyter-widgets/base",
     "model_module_version": "1.2.0",
     "model_name": "LayoutModel",
     "state": {
      "_model_module": "@jupyter-widgets/base",
      "_model_module_version": "1.2.0",
      "_model_name": "LayoutModel",
      "_view_count": null,
      "_view_module": "@jupyter-widgets/base",
      "_view_module_version": "1.2.0",
      "_view_name": "LayoutView",
      "align_content": null,
      "align_items": null,
      "align_self": null,
      "border": null,
      "bottom": null,
      "display": null,
      "flex": null,
      "flex_flow": null,
      "grid_area": null,
      "grid_auto_columns": null,
      "grid_auto_flow": null,
      "grid_auto_rows": null,
      "grid_column": null,
      "grid_gap": null,
      "grid_row": null,
      "grid_template_areas": null,
      "grid_template_columns": null,
      "grid_template_rows": null,
      "height": null,
      "justify_content": null,
      "justify_items": null,
      "left": null,
      "margin": null,
      "max_height": null,
      "max_width": null,
      "min_height": null,
      "min_width": null,
      "object_fit": null,
      "object_position": null,
      "order": null,
      "overflow": null,
      "overflow_x": null,
      "overflow_y": null,
      "padding": null,
      "right": null,
      "top": null,
      "visibility": null,
      "width": null
     }
    },
    "2d1dfe05e15147b9924d7a634eae6840": {
     "model_module": "@jupyter-widgets/controls",
     "model_module_version": "1.5.0",
     "model_name": "SliderStyleModel",
     "state": {
      "_model_module": "@jupyter-widgets/controls",
      "_model_module_version": "1.5.0",
      "_model_name": "SliderStyleModel",
      "_view_count": null,
      "_view_module": "@jupyter-widgets/base",
      "_view_module_version": "1.2.0",
      "_view_name": "StyleView",
      "description_width": "",
      "handle_color": null
     }
    },
    "2d9d965613574ebea7e88a595c270340": {
     "model_module": "@jupyter-widgets/controls",
     "model_module_version": "1.5.0",
     "model_name": "VBoxModel",
     "state": {
      "_dom_classes": [
       "widget-interact"
      ],
      "_model_module": "@jupyter-widgets/controls",
      "_model_module_version": "1.5.0",
      "_model_name": "VBoxModel",
      "_view_count": null,
      "_view_module": "@jupyter-widgets/controls",
      "_view_module_version": "1.5.0",
      "_view_name": "VBoxView",
      "box_style": "",
      "children": [
       "IPY_MODEL_aa2d0b5575ce4dc88e8aba365f7eab0b",
       "IPY_MODEL_c838221f85124f60885197cbbe19859b",
       "IPY_MODEL_4c12e8c143b54712afc38a515e341d0e"
      ],
      "layout": "IPY_MODEL_8f7c120d14404f38b4aaa67da9fa7e18"
     }
    },
    "43b9ccd78f9a4ed9bf0fcdaeacf60e06": {
     "model_module": "@jupyter-widgets/base",
     "model_module_version": "1.2.0",
     "model_name": "LayoutModel",
     "state": {
      "_model_module": "@jupyter-widgets/base",
      "_model_module_version": "1.2.0",
      "_model_name": "LayoutModel",
      "_view_count": null,
      "_view_module": "@jupyter-widgets/base",
      "_view_module_version": "1.2.0",
      "_view_name": "LayoutView",
      "align_content": null,
      "align_items": null,
      "align_self": null,
      "border": null,
      "bottom": null,
      "display": null,
      "flex": null,
      "flex_flow": null,
      "grid_area": null,
      "grid_auto_columns": null,
      "grid_auto_flow": null,
      "grid_auto_rows": null,
      "grid_column": null,
      "grid_gap": null,
      "grid_row": null,
      "grid_template_areas": null,
      "grid_template_columns": null,
      "grid_template_rows": null,
      "height": null,
      "justify_content": null,
      "justify_items": null,
      "left": null,
      "margin": null,
      "max_height": null,
      "max_width": null,
      "min_height": null,
      "min_width": null,
      "object_fit": null,
      "object_position": null,
      "order": null,
      "overflow": null,
      "overflow_x": null,
      "overflow_y": null,
      "padding": null,
      "right": null,
      "top": null,
      "visibility": null,
      "width": null
     }
    },
    "4c12e8c143b54712afc38a515e341d0e": {
     "model_module": "@jupyter-widgets/output",
     "model_module_version": "1.0.0",
     "model_name": "OutputModel",
     "state": {
      "_dom_classes": [],
      "_model_module": "@jupyter-widgets/output",
      "_model_module_version": "1.0.0",
      "_model_name": "OutputModel",
      "_view_count": null,
      "_view_module": "@jupyter-widgets/output",
      "_view_module_version": "1.0.0",
      "_view_name": "OutputView",
      "layout": "IPY_MODEL_01073eec7a0a430eaad14c2f85273bad",
      "msg_id": "",
      "outputs": [
       {
        "data": {
         "image/png": "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\n",
         "text/plain": "<Figure size 1000x600 with 1 Axes>"
        },
        "metadata": {},
        "output_type": "display_data"
       }
      ]
     }
    },
    "8f7c120d14404f38b4aaa67da9fa7e18": {
     "model_module": "@jupyter-widgets/base",
     "model_module_version": "1.2.0",
     "model_name": "LayoutModel",
     "state": {
      "_model_module": "@jupyter-widgets/base",
      "_model_module_version": "1.2.0",
      "_model_name": "LayoutModel",
      "_view_count": null,
      "_view_module": "@jupyter-widgets/base",
      "_view_module_version": "1.2.0",
      "_view_name": "LayoutView",
      "align_content": null,
      "align_items": null,
      "align_self": null,
      "border": null,
      "bottom": null,
      "display": null,
      "flex": null,
      "flex_flow": null,
      "grid_area": null,
      "grid_auto_columns": null,
      "grid_auto_flow": null,
      "grid_auto_rows": null,
      "grid_column": null,
      "grid_gap": null,
      "grid_row": null,
      "grid_template_areas": null,
      "grid_template_columns": null,
      "grid_template_rows": null,
      "height": null,
      "justify_content": null,
      "justify_items": null,
      "left": null,
      "margin": null,
      "max_height": null,
      "max_width": null,
      "min_height": null,
      "min_width": null,
      "object_fit": null,
      "object_position": null,
      "order": null,
      "overflow": null,
      "overflow_x": null,
      "overflow_y": null,
      "padding": null,
      "right": null,
      "top": null,
      "visibility": null,
      "width": null
     }
    },
    "aa2d0b5575ce4dc88e8aba365f7eab0b": {
     "model_module": "@jupyter-widgets/controls",
     "model_module_version": "1.5.0",
     "model_name": "FloatSliderModel",
     "state": {
      "_dom_classes": [],
      "_model_module": "@jupyter-widgets/controls",
      "_model_module_version": "1.5.0",
      "_model_name": "FloatSliderModel",
      "_view_count": null,
      "_view_module": "@jupyter-widgets/controls",
      "_view_module_version": "1.5.0",
      "_view_name": "FloatSliderView",
      "continuous_update": true,
      "description": "p2_x",
      "description_tooltip": null,
      "disabled": false,
      "layout": "IPY_MODEL_1933e0f249f144fa8002bbb37118d4b9",
      "max": 12.3,
      "min": 5.5,
      "orientation": "horizontal",
      "readout": true,
      "readout_format": ".2f",
      "step": 0.1,
      "style": "IPY_MODEL_003d8c2cc5ad470d9f252aa8dc826866",
      "value": 11
     }
    },
    "c838221f85124f60885197cbbe19859b": {
     "model_module": "@jupyter-widgets/controls",
     "model_module_version": "1.5.0",
     "model_name": "FloatSliderModel",
     "state": {
      "_dom_classes": [],
      "_model_module": "@jupyter-widgets/controls",
      "_model_module_version": "1.5.0",
      "_model_name": "FloatSliderModel",
      "_view_count": null,
      "_view_module": "@jupyter-widgets/controls",
      "_view_module_version": "1.5.0",
      "_view_name": "FloatSliderView",
      "continuous_update": true,
      "description": "p2_y",
      "description_tooltip": null,
      "disabled": false,
      "layout": "IPY_MODEL_43b9ccd78f9a4ed9bf0fcdaeacf60e06",
      "max": 10,
      "min": -10,
      "orientation": "horizontal",
      "readout": true,
      "readout_format": ".2f",
      "step": 0.1,
      "style": "IPY_MODEL_2d1dfe05e15147b9924d7a634eae6840",
      "value": -7.2
     }
    }
   }
  }
 },
 "nbformat": 4,
 "nbformat_minor": 0
}
